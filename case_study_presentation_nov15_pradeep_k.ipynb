{
 "cells": [
  {
   "cell_type": "markdown",
   "id": "f57aa71d",
   "metadata": {},
   "source": [
    "# Case Study on Presentation of Data"
   ]
  },
  {
   "cell_type": "markdown",
   "id": "9b009cec",
   "metadata": {},
   "source": [
    "# Read the dataset to the python environment"
   ]
  },
  {
   "cell_type": "code",
   "execution_count": 2,
   "id": "1542eb4b",
   "metadata": {},
   "outputs": [],
   "source": [
    "# Load the Pandas libraries with alias 'pd' "
   ]
  },
  {
   "cell_type": "code",
   "execution_count": 3,
   "id": "32505186",
   "metadata": {},
   "outputs": [],
   "source": [
    "import pandas as pd\n"
   ]
  },
  {
   "cell_type": "code",
   "execution_count": 4,
   "id": "455898e0",
   "metadata": {},
   "outputs": [],
   "source": [
    "# Read data from file 'filename.csv' "
   ]
  },
  {
   "cell_type": "code",
   "execution_count": 5,
   "id": "e995ee52",
   "metadata": {},
   "outputs": [],
   "source": [
    "data=pd.read_csv(r'C:\\Users\\HP\\.jupyter\\cars_data.csv')"
   ]
  },
  {
   "cell_type": "code",
   "execution_count": 6,
   "id": "e2d105f2",
   "metadata": {},
   "outputs": [],
   "source": [
    "# Preview the first 5 lines of the loaded data "
   ]
  },
  {
   "cell_type": "code",
   "execution_count": 7,
   "id": "ecaf0e19",
   "metadata": {},
   "outputs": [
    {
     "data": {
      "text/html": [
       "<div>\n",
       "<style scoped>\n",
       "    .dataframe tbody tr th:only-of-type {\n",
       "        vertical-align: middle;\n",
       "    }\n",
       "\n",
       "    .dataframe tbody tr th {\n",
       "        vertical-align: top;\n",
       "    }\n",
       "\n",
       "    .dataframe thead th {\n",
       "        text-align: right;\n",
       "    }\n",
       "</style>\n",
       "<table border=\"1\" class=\"dataframe\">\n",
       "  <thead>\n",
       "    <tr style=\"text-align: right;\">\n",
       "      <th></th>\n",
       "      <th>Make</th>\n",
       "      <th>Model</th>\n",
       "      <th>Nickname</th>\n",
       "      <th>Car Gender</th>\n",
       "      <th>Buyer Gender</th>\n",
       "      <th>Buyer Age</th>\n",
       "      <th>Buzzword</th>\n",
       "      <th>Country</th>\n",
       "      <th>City</th>\n",
       "      <th>Dealer Latitude</th>\n",
       "      <th>Dealer Longitude</th>\n",
       "      <th>Color</th>\n",
       "      <th>New Car</th>\n",
       "      <th>Purchase Date</th>\n",
       "      <th>Sale Price</th>\n",
       "      <th>Discount</th>\n",
       "      <th>Resell Price</th>\n",
       "      <th>5-yr Depreciation</th>\n",
       "      <th>Top Speed</th>\n",
       "      <th>0-60 Time</th>\n",
       "    </tr>\n",
       "  </thead>\n",
       "  <tbody>\n",
       "    <tr>\n",
       "      <th>0</th>\n",
       "      <td>Suzuki</td>\n",
       "      <td>Vitara</td>\n",
       "      <td>Philippine</td>\n",
       "      <td>Female</td>\n",
       "      <td>Female</td>\n",
       "      <td>51</td>\n",
       "      <td>User-friendly</td>\n",
       "      <td>Belgium</td>\n",
       "      <td>Antwerpen</td>\n",
       "      <td>51.247239</td>\n",
       "      <td>4.440346</td>\n",
       "      <td>Yellow</td>\n",
       "      <td>False</td>\n",
       "      <td>19-07-2009</td>\n",
       "      <td>54806.14</td>\n",
       "      <td>0.2467</td>\n",
       "      <td>33858.32</td>\n",
       "      <td>0.13</td>\n",
       "      <td>200.9</td>\n",
       "      <td>11.5</td>\n",
       "    </tr>\n",
       "    <tr>\n",
       "      <th>1</th>\n",
       "      <td>Honda</td>\n",
       "      <td>S2000</td>\n",
       "      <td>Henrik</td>\n",
       "      <td>Male</td>\n",
       "      <td>Male</td>\n",
       "      <td>30</td>\n",
       "      <td>analyzing</td>\n",
       "      <td>China</td>\n",
       "      <td>Jinhu</td>\n",
       "      <td>33.025433</td>\n",
       "      <td>119.020584</td>\n",
       "      <td>Crimson</td>\n",
       "      <td>False</td>\n",
       "      <td>26-10-2015</td>\n",
       "      <td>51826.30</td>\n",
       "      <td>0.3147</td>\n",
       "      <td>2989.28</td>\n",
       "      <td>0.02</td>\n",
       "      <td>158.5</td>\n",
       "      <td>8.8</td>\n",
       "    </tr>\n",
       "    <tr>\n",
       "      <th>2</th>\n",
       "      <td>BMW</td>\n",
       "      <td>Z4</td>\n",
       "      <td>Lebbie</td>\n",
       "      <td>Male</td>\n",
       "      <td>Female</td>\n",
       "      <td>54</td>\n",
       "      <td>software</td>\n",
       "      <td>China</td>\n",
       "      <td>Gemo</td>\n",
       "      <td>30.916207</td>\n",
       "      <td>121.677640</td>\n",
       "      <td>Khaki</td>\n",
       "      <td>False</td>\n",
       "      <td>28-03-2010</td>\n",
       "      <td>82929.14</td>\n",
       "      <td>0.5414</td>\n",
       "      <td>35049.16</td>\n",
       "      <td>0.24</td>\n",
       "      <td>149.5</td>\n",
       "      <td>14.4</td>\n",
       "    </tr>\n",
       "    <tr>\n",
       "      <th>3</th>\n",
       "      <td>Toyota</td>\n",
       "      <td>Tacoma</td>\n",
       "      <td>Jefferey</td>\n",
       "      <td>Female</td>\n",
       "      <td>Male</td>\n",
       "      <td>68</td>\n",
       "      <td>monitoring</td>\n",
       "      <td>Portugal</td>\n",
       "      <td>Queluz de Baixo</td>\n",
       "      <td>38.745168</td>\n",
       "      <td>-9.267087</td>\n",
       "      <td>Puce</td>\n",
       "      <td>False</td>\n",
       "      <td>07-05-2008</td>\n",
       "      <td>56928.66</td>\n",
       "      <td>0.0850</td>\n",
       "      <td>8236.15</td>\n",
       "      <td>0.20</td>\n",
       "      <td>153.3</td>\n",
       "      <td>11.5</td>\n",
       "    </tr>\n",
       "    <tr>\n",
       "      <th>4</th>\n",
       "      <td>Ford</td>\n",
       "      <td>Festiva</td>\n",
       "      <td>Glendon</td>\n",
       "      <td>Female</td>\n",
       "      <td>Male</td>\n",
       "      <td>70</td>\n",
       "      <td>Sharable</td>\n",
       "      <td>Latvia</td>\n",
       "      <td>Jaunpils</td>\n",
       "      <td>56.729980</td>\n",
       "      <td>23.016588</td>\n",
       "      <td>Yellow</td>\n",
       "      <td>False</td>\n",
       "      <td>01-06-2008</td>\n",
       "      <td>77201.26</td>\n",
       "      <td>0.1642</td>\n",
       "      <td>32765.76</td>\n",
       "      <td>0.18</td>\n",
       "      <td>122.0</td>\n",
       "      <td>14.9</td>\n",
       "    </tr>\n",
       "  </tbody>\n",
       "</table>\n",
       "</div>"
      ],
      "text/plain": [
       "     Make    Model    Nickname Car Gender Buyer Gender  Buyer Age  \\\n",
       "0  Suzuki   Vitara  Philippine     Female       Female         51   \n",
       "1   Honda    S2000      Henrik       Male         Male         30   \n",
       "2     BMW       Z4      Lebbie       Male       Female         54   \n",
       "3  Toyota   Tacoma    Jefferey     Female         Male         68   \n",
       "4    Ford  Festiva     Glendon     Female         Male         70   \n",
       "\n",
       "        Buzzword   Country             City  Dealer Latitude  \\\n",
       "0  User-friendly   Belgium        Antwerpen        51.247239   \n",
       "1      analyzing     China            Jinhu        33.025433   \n",
       "2       software     China             Gemo        30.916207   \n",
       "3     monitoring  Portugal  Queluz de Baixo        38.745168   \n",
       "4       Sharable    Latvia         Jaunpils        56.729980   \n",
       "\n",
       "   Dealer Longitude    Color  New Car Purchase Date  Sale Price  Discount  \\\n",
       "0          4.440346   Yellow    False    19-07-2009    54806.14    0.2467   \n",
       "1        119.020584  Crimson    False    26-10-2015    51826.30    0.3147   \n",
       "2        121.677640    Khaki    False    28-03-2010    82929.14    0.5414   \n",
       "3         -9.267087     Puce    False    07-05-2008    56928.66    0.0850   \n",
       "4         23.016588   Yellow    False    01-06-2008    77201.26    0.1642   \n",
       "\n",
       "   Resell Price  5-yr Depreciation  Top Speed  0-60 Time  \n",
       "0      33858.32               0.13      200.9       11.5  \n",
       "1       2989.28               0.02      158.5        8.8  \n",
       "2      35049.16               0.24      149.5       14.4  \n",
       "3       8236.15               0.20      153.3       11.5  \n",
       "4      32765.76               0.18      122.0       14.9  "
      ]
     },
     "execution_count": 7,
     "metadata": {},
     "output_type": "execute_result"
    }
   ],
   "source": [
    "data.head()"
   ]
  },
  {
   "cell_type": "markdown",
   "id": "ff7ff959",
   "metadata": {},
   "source": [
    "# Check for the null values present in the dataset"
   ]
  },
  {
   "cell_type": "code",
   "execution_count": 9,
   "id": "5c918e5d",
   "metadata": {},
   "outputs": [],
   "source": [
    "# Load the Pandas libraries with alias 'pd' "
   ]
  },
  {
   "cell_type": "code",
   "execution_count": 11,
   "id": "55aa2b91",
   "metadata": {},
   "outputs": [],
   "source": [
    "import pandas as pd"
   ]
  },
  {
   "cell_type": "code",
   "execution_count": null,
   "id": "7438af99",
   "metadata": {},
   "outputs": [],
   "source": [
    "# Read data from file 'filename.csv'"
   ]
  },
  {
   "cell_type": "code",
   "execution_count": null,
   "id": "df18ae61",
   "metadata": {},
   "outputs": [],
   "source": [
    "data=pd.read_csv(r'C:\\Users\\HP\\.jupyter\\cars_data.csv')"
   ]
  },
  {
   "cell_type": "code",
   "execution_count": null,
   "id": "fb17456d",
   "metadata": {},
   "outputs": [],
   "source": [
    " #find the null values present in the dataset"
   ]
  },
  {
   "cell_type": "code",
   "execution_count": 33,
   "id": "24421dbb",
   "metadata": {},
   "outputs": [
    {
     "data": {
      "text/plain": [
       "Make                 0\n",
       "Model                0\n",
       "Nickname             0\n",
       "Car Gender           0\n",
       "Buyer Gender         0\n",
       "Buyer Age            0\n",
       "Buzzword             0\n",
       "Country              0\n",
       "City                 0\n",
       "Dealer Latitude      0\n",
       "Dealer Longitude     0\n",
       "Color                0\n",
       "New Car              0\n",
       "Purchase Date        0\n",
       "Sale Price           0\n",
       "Discount             0\n",
       "Resell Price         0\n",
       "5-yr Depreciation    0\n",
       "Top Speed            0\n",
       "0-60 Time            0\n",
       "dtype: int64"
      ]
     },
     "execution_count": 33,
     "metadata": {},
     "output_type": "execute_result"
    }
   ],
   "source": [
    "data.isnull().sum()"
   ]
  },
  {
   "cell_type": "code",
   "execution_count": null,
   "id": "bb8b60d4",
   "metadata": {},
   "outputs": [],
   "source": [
    "#Plot a bar graph of male vs female buyers participated in the sale:"
   ]
  },
  {
   "cell_type": "code",
   "execution_count": null,
   "id": "513bb290",
   "metadata": {},
   "outputs": [],
   "source": [
    "# Load the Pandas libraries with alias 'pd' "
   ]
  },
  {
   "cell_type": "code",
   "execution_count": 3,
   "id": "6f1bc00f",
   "metadata": {},
   "outputs": [],
   "source": [
    "import pandas as pd\n",
    "import numpy as np\n",
    "import matplotlib.pyplot as plt\n",
    "import seaborn as sns"
   ]
  },
  {
   "cell_type": "code",
   "execution_count": null,
   "id": "0dbd7039",
   "metadata": {},
   "outputs": [],
   "source": [
    "# Read data from file 'filename.csv'"
   ]
  },
  {
   "cell_type": "code",
   "execution_count": 4,
   "id": "c47547ff",
   "metadata": {},
   "outputs": [],
   "source": [
    "df=pd.read_csv(r'C:\\Users\\HP\\.jupyter\\cars_data.csv',index_col=0)"
   ]
  },
  {
   "cell_type": "code",
   "execution_count": 5,
   "id": "2449b2b6",
   "metadata": {},
   "outputs": [],
   "source": [
    "#counts the number of Females and Males in Buyer Gender column and plot graph"
   ]
  },
  {
   "cell_type": "code",
   "execution_count": 13,
   "id": "9c8fcc10",
   "metadata": {},
   "outputs": [
    {
     "data": {
      "text/plain": [
       "(100.0, 6000.0)"
      ]
     },
     "execution_count": 13,
     "metadata": {},
     "output_type": "execute_result"
    },
    {
     "data": {
      "image/png": "[encoded data removed]",
      "text/plain": [
       "<Figure size 432x288 with 1 Axes>"
      ]
     },
     "metadata": {
      "needs_background": "light"
     },
     "output_type": "display_data"
    }
   ],
   "source": [
    "df['Buyer Gender'].value_counts().plot(kind='bar')\n",
    "plt.grid(True)\n",
    "plt.ylim((100,6000))\n"
   ]
  },
  {
   "cell_type": "markdown",
   "id": "b9568e94",
   "metadata": {},
   "source": [
    "# find top 5 cars based on price"
   ]
  },
  {
   "cell_type": "code",
   "execution_count": null,
   "id": "1fdcaa76",
   "metadata": {},
   "outputs": [],
   "source": [
    "# Load the Pandas libraries with alias 'pd' "
   ]
  },
  {
   "cell_type": "code",
   "execution_count": 20,
   "id": "471d568b",
   "metadata": {},
   "outputs": [],
   "source": [
    "import pandas as pd\n",
    "import numpy as np\n",
    "import matplotlib.pyplot as plt\n",
    "import seaborn as sns"
   ]
  },
  {
   "cell_type": "code",
   "execution_count": null,
   "id": "861d5cf1",
   "metadata": {},
   "outputs": [],
   "source": [
    "#Reaad data from file name cars_data.csv"
   ]
  },
  {
   "cell_type": "code",
   "execution_count": 23,
   "id": "438e1e0f",
   "metadata": {},
   "outputs": [],
   "source": [
    "data=pd.read_csv(r'C:\\Users\\HP\\.jupyter\\cars_data.csv')"
   ]
  },
  {
   "cell_type": "code",
   "execution_count": null,
   "id": "47de74ac",
   "metadata": {},
   "outputs": [],
   "source": [
    "#define the data DataFrame"
   ]
  },
  {
   "cell_type": "code",
   "execution_count": 26,
   "id": "ce3b16d8",
   "metadata": {},
   "outputs": [],
   "source": [
    "df=pd.DataFrame(data)"
   ]
  },
  {
   "cell_type": "code",
   "execution_count": null,
   "id": "4eebdf23",
   "metadata": {},
   "outputs": [],
   "source": [
    "#sort the values in the column \"Sale Price\"in descending order and find the top five cars in column \"Make\""
   ]
  },
  {
   "cell_type": "code",
   "execution_count": 28,
   "id": "70a9c37d",
   "metadata": {},
   "outputs": [],
   "source": [
    "sorted_list=df.sort_values(['Sale Price'], ascending=False).groupby('Make').head(5)"
   ]
  },
  {
   "cell_type": "code",
   "execution_count": null,
   "id": "0ffda82c",
   "metadata": {},
   "outputs": [],
   "source": [
    "#display the first five rows"
   ]
  },
  {
   "cell_type": "code",
   "execution_count": 29,
   "id": "5a7c9089",
   "metadata": {},
   "outputs": [
    {
     "data": {
      "text/html": [
       "<div>\n",
       "<style scoped>\n",
       "    .dataframe tbody tr th:only-of-type {\n",
       "        vertical-align: middle;\n",
       "    }\n",
       "\n",
       "    .dataframe tbody tr th {\n",
       "        vertical-align: top;\n",
       "    }\n",
       "\n",
       "    .dataframe thead th {\n",
       "        text-align: right;\n",
       "    }\n",
       "</style>\n",
       "<table border=\"1\" class=\"dataframe\">\n",
       "  <thead>\n",
       "    <tr style=\"text-align: right;\">\n",
       "      <th></th>\n",
       "      <th>Make</th>\n",
       "      <th>Model</th>\n",
       "      <th>Nickname</th>\n",
       "      <th>Car Gender</th>\n",
       "      <th>Buyer Gender</th>\n",
       "      <th>Buyer Age</th>\n",
       "      <th>Buzzword</th>\n",
       "      <th>Country</th>\n",
       "      <th>City</th>\n",
       "      <th>Dealer Latitude</th>\n",
       "      <th>Dealer Longitude</th>\n",
       "      <th>Color</th>\n",
       "      <th>New Car</th>\n",
       "      <th>Purchase Date</th>\n",
       "      <th>Sale Price</th>\n",
       "      <th>Discount</th>\n",
       "      <th>Resell Price</th>\n",
       "      <th>5-yr Depreciation</th>\n",
       "      <th>Top Speed</th>\n",
       "      <th>0-60 Time</th>\n",
       "    </tr>\n",
       "  </thead>\n",
       "  <tbody>\n",
       "    <tr>\n",
       "      <th>5984</th>\n",
       "      <td>Volkswagen</td>\n",
       "      <td>Jetta III</td>\n",
       "      <td>Rachael</td>\n",
       "      <td>Female</td>\n",
       "      <td>Female</td>\n",
       "      <td>73</td>\n",
       "      <td>core</td>\n",
       "      <td>Russia</td>\n",
       "      <td>Krasnoyarka</td>\n",
       "      <td>59.418208</td>\n",
       "      <td>60.514706</td>\n",
       "      <td>Blue</td>\n",
       "      <td>False</td>\n",
       "      <td>10-05-2014</td>\n",
       "      <td>99997.65</td>\n",
       "      <td>0.1695</td>\n",
       "      <td>31601.95</td>\n",
       "      <td>0.06</td>\n",
       "      <td>204.9</td>\n",
       "      <td>12.6</td>\n",
       "    </tr>\n",
       "    <tr>\n",
       "      <th>1270</th>\n",
       "      <td>Audi</td>\n",
       "      <td>A6</td>\n",
       "      <td>Thorn</td>\n",
       "      <td>Male</td>\n",
       "      <td>Male</td>\n",
       "      <td>75</td>\n",
       "      <td>function</td>\n",
       "      <td>Latvia</td>\n",
       "      <td>Līgatne</td>\n",
       "      <td>57.236340</td>\n",
       "      <td>25.038073</td>\n",
       "      <td>Blue</td>\n",
       "      <td>True</td>\n",
       "      <td>30-01-2017</td>\n",
       "      <td>99991.91</td>\n",
       "      <td>0.4692</td>\n",
       "      <td>34711.19</td>\n",
       "      <td>0.16</td>\n",
       "      <td>171.3</td>\n",
       "      <td>13.0</td>\n",
       "    </tr>\n",
       "    <tr>\n",
       "      <th>3460</th>\n",
       "      <td>Lexus</td>\n",
       "      <td>LX</td>\n",
       "      <td>Aldin</td>\n",
       "      <td>Female</td>\n",
       "      <td>Male</td>\n",
       "      <td>38</td>\n",
       "      <td>software</td>\n",
       "      <td>Malaysia</td>\n",
       "      <td>Pasir Mas</td>\n",
       "      <td>6.109065</td>\n",
       "      <td>102.133622</td>\n",
       "      <td>Orange</td>\n",
       "      <td>False</td>\n",
       "      <td>04-03-2018</td>\n",
       "      <td>99983.38</td>\n",
       "      <td>0.1170</td>\n",
       "      <td>21462.44</td>\n",
       "      <td>0.12</td>\n",
       "      <td>193.7</td>\n",
       "      <td>4.5</td>\n",
       "    </tr>\n",
       "    <tr>\n",
       "      <th>9032</th>\n",
       "      <td>Mazda</td>\n",
       "      <td>MX-6</td>\n",
       "      <td>Sylvester</td>\n",
       "      <td>Female</td>\n",
       "      <td>Male</td>\n",
       "      <td>26</td>\n",
       "      <td>internet solution</td>\n",
       "      <td>Russia</td>\n",
       "      <td>Krutaya Gorka</td>\n",
       "      <td>55.369917</td>\n",
       "      <td>73.222396</td>\n",
       "      <td>Pink</td>\n",
       "      <td>False</td>\n",
       "      <td>11-12-2014</td>\n",
       "      <td>99978.17</td>\n",
       "      <td>0.6021</td>\n",
       "      <td>45958.19</td>\n",
       "      <td>0.15</td>\n",
       "      <td>232.0</td>\n",
       "      <td>3.9</td>\n",
       "    </tr>\n",
       "    <tr>\n",
       "      <th>302</th>\n",
       "      <td>Lexus</td>\n",
       "      <td>ES</td>\n",
       "      <td>Brig</td>\n",
       "      <td>Female</td>\n",
       "      <td>Male</td>\n",
       "      <td>39</td>\n",
       "      <td>user-facing</td>\n",
       "      <td>Canada</td>\n",
       "      <td>Langford</td>\n",
       "      <td>48.447463</td>\n",
       "      <td>-123.495634</td>\n",
       "      <td>Maroon</td>\n",
       "      <td>False</td>\n",
       "      <td>26-07-2018</td>\n",
       "      <td>99973.44</td>\n",
       "      <td>0.6294</td>\n",
       "      <td>32521.53</td>\n",
       "      <td>0.21</td>\n",
       "      <td>228.1</td>\n",
       "      <td>4.7</td>\n",
       "    </tr>\n",
       "  </tbody>\n",
       "</table>\n",
       "</div>"
      ],
      "text/plain": [
       "            Make      Model   Nickname Car Gender Buyer Gender  Buyer Age  \\\n",
       "5984  Volkswagen  Jetta III    Rachael     Female       Female         73   \n",
       "1270        Audi         A6      Thorn       Male         Male         75   \n",
       "3460       Lexus         LX      Aldin     Female         Male         38   \n",
       "9032       Mazda       MX-6  Sylvester     Female         Male         26   \n",
       "302        Lexus         ES       Brig     Female         Male         39   \n",
       "\n",
       "               Buzzword   Country           City  Dealer Latitude  \\\n",
       "5984               core    Russia    Krasnoyarka        59.418208   \n",
       "1270           function    Latvia        Līgatne        57.236340   \n",
       "3460           software  Malaysia      Pasir Mas         6.109065   \n",
       "9032  internet solution    Russia  Krutaya Gorka        55.369917   \n",
       "302         user-facing    Canada       Langford        48.447463   \n",
       "\n",
       "      Dealer Longitude   Color  New Car Purchase Date  Sale Price  Discount  \\\n",
       "5984         60.514706    Blue    False    10-05-2014    99997.65    0.1695   \n",
       "1270         25.038073    Blue     True    30-01-2017    99991.91    0.4692   \n",
       "3460        102.133622  Orange    False    04-03-2018    99983.38    0.1170   \n",
       "9032         73.222396    Pink    False    11-12-2014    99978.17    0.6021   \n",
       "302        -123.495634  Maroon    False    26-07-2018    99973.44    0.6294   \n",
       "\n",
       "      Resell Price  5-yr Depreciation  Top Speed  0-60 Time  \n",
       "5984      31601.95               0.06      204.9       12.6  \n",
       "1270      34711.19               0.16      171.3       13.0  \n",
       "3460      21462.44               0.12      193.7        4.5  \n",
       "9032      45958.19               0.15      232.0        3.9  \n",
       "302       32521.53               0.21      228.1        4.7  "
      ]
     },
     "execution_count": 29,
     "metadata": {},
     "output_type": "execute_result"
    }
   ],
   "source": [
    "sorted_list.iloc[:5]"
   ]
  },
  {
   "cell_type": "markdown",
   "id": "c3d6d1af",
   "metadata": {},
   "source": [
    "# Finding the least 5 cars based on the Resell price"
   ]
  },
  {
   "cell_type": "code",
   "execution_count": null,
   "id": "1ad1724d",
   "metadata": {},
   "outputs": [],
   "source": [
    "# Load the Pandas libraries with alias 'pd' "
   ]
  },
  {
   "cell_type": "code",
   "execution_count": 3,
   "id": "c83b3c6f",
   "metadata": {},
   "outputs": [],
   "source": [
    "import pandas as pd\n",
    "import numpy as np\n",
    "import matplotlib.pyplot as plt\n",
    "import seaborn as sns"
   ]
  },
  {
   "cell_type": "code",
   "execution_count": null,
   "id": "086ccdb9",
   "metadata": {},
   "outputs": [],
   "source": [
    "#Reaad data from file name cars_data.csv"
   ]
  },
  {
   "cell_type": "code",
   "execution_count": 4,
   "id": "3a6de371",
   "metadata": {},
   "outputs": [],
   "source": [
    "data=pd.read_csv(r'C:\\Users\\HP\\.jupyter\\cars_data.csv')"
   ]
  },
  {
   "cell_type": "code",
   "execution_count": null,
   "id": "8e1fd8dc",
   "metadata": {},
   "outputs": [],
   "source": [
    "#define the data DataFrame"
   ]
  },
  {
   "cell_type": "code",
   "execution_count": 5,
   "id": "38ac98e7",
   "metadata": {},
   "outputs": [],
   "source": [
    "df=pd.DataFrame(data)"
   ]
  },
  {
   "cell_type": "code",
   "execution_count": null,
   "id": "695e1bd5",
   "metadata": {},
   "outputs": [],
   "source": [
    "#sort the values in the column Sales Price in ascending order and find the least 5 cars based on Resell price"
   ]
  },
  {
   "cell_type": "code",
   "execution_count": 6,
   "id": "7c1907f3",
   "metadata": {},
   "outputs": [],
   "source": [
    "sorted_list=df.sort_values(['Resell Price'], ascending=True).groupby('Make').head(5)"
   ]
  },
  {
   "cell_type": "code",
   "execution_count": null,
   "id": "55db0de1",
   "metadata": {},
   "outputs": [],
   "source": [
    "#Display the firs five rows"
   ]
  },
  {
   "cell_type": "code",
   "execution_count": 7,
   "id": "2e4764bc",
   "metadata": {},
   "outputs": [
    {
     "data": {
      "text/html": [
       "<div>\n",
       "<style scoped>\n",
       "    .dataframe tbody tr th:only-of-type {\n",
       "        vertical-align: middle;\n",
       "    }\n",
       "\n",
       "    .dataframe tbody tr th {\n",
       "        vertical-align: top;\n",
       "    }\n",
       "\n",
       "    .dataframe thead th {\n",
       "        text-align: right;\n",
       "    }\n",
       "</style>\n",
       "<table border=\"1\" class=\"dataframe\">\n",
       "  <thead>\n",
       "    <tr style=\"text-align: right;\">\n",
       "      <th></th>\n",
       "      <th>Make</th>\n",
       "      <th>Model</th>\n",
       "      <th>Nickname</th>\n",
       "      <th>Car Gender</th>\n",
       "      <th>Buyer Gender</th>\n",
       "      <th>Buyer Age</th>\n",
       "      <th>Buzzword</th>\n",
       "      <th>Country</th>\n",
       "      <th>City</th>\n",
       "      <th>Dealer Latitude</th>\n",
       "      <th>Dealer Longitude</th>\n",
       "      <th>Color</th>\n",
       "      <th>New Car</th>\n",
       "      <th>Purchase Date</th>\n",
       "      <th>Sale Price</th>\n",
       "      <th>Discount</th>\n",
       "      <th>Resell Price</th>\n",
       "      <th>5-yr Depreciation</th>\n",
       "      <th>Top Speed</th>\n",
       "      <th>0-60 Time</th>\n",
       "    </tr>\n",
       "  </thead>\n",
       "  <tbody>\n",
       "    <tr>\n",
       "      <th>2446</th>\n",
       "      <td>Chevrolet</td>\n",
       "      <td>1500</td>\n",
       "      <td>Corenda</td>\n",
       "      <td>Male</td>\n",
       "      <td>Female</td>\n",
       "      <td>25</td>\n",
       "      <td>collaboration</td>\n",
       "      <td>Philippines</td>\n",
       "      <td>Tubigan</td>\n",
       "      <td>8.490877</td>\n",
       "      <td>124.345771</td>\n",
       "      <td>Khaki</td>\n",
       "      <td>False</td>\n",
       "      <td>20-03-2002</td>\n",
       "      <td>49909.44</td>\n",
       "      <td>0.4480</td>\n",
       "      <td>2000.84</td>\n",
       "      <td>0.25</td>\n",
       "      <td>239.6</td>\n",
       "      <td>11.2</td>\n",
       "    </tr>\n",
       "    <tr>\n",
       "      <th>4933</th>\n",
       "      <td>GMC</td>\n",
       "      <td>Savana 1500</td>\n",
       "      <td>Lark</td>\n",
       "      <td>Female</td>\n",
       "      <td>Female</td>\n",
       "      <td>34</td>\n",
       "      <td>interactive</td>\n",
       "      <td>Poland</td>\n",
       "      <td>Śródmieście</td>\n",
       "      <td>53.838651</td>\n",
       "      <td>22.988241</td>\n",
       "      <td>Blue</td>\n",
       "      <td>False</td>\n",
       "      <td>15-04-2010</td>\n",
       "      <td>80084.82</td>\n",
       "      <td>0.2334</td>\n",
       "      <td>2005.44</td>\n",
       "      <td>0.01</td>\n",
       "      <td>158.7</td>\n",
       "      <td>9.0</td>\n",
       "    </tr>\n",
       "    <tr>\n",
       "      <th>566</th>\n",
       "      <td>Jaguar</td>\n",
       "      <td>XF</td>\n",
       "      <td>Payton</td>\n",
       "      <td>Female</td>\n",
       "      <td>Male</td>\n",
       "      <td>64</td>\n",
       "      <td>Visionary</td>\n",
       "      <td>Nigeria</td>\n",
       "      <td>Ikot-Ekpene</td>\n",
       "      <td>5.174447</td>\n",
       "      <td>7.714515</td>\n",
       "      <td>Red</td>\n",
       "      <td>True</td>\n",
       "      <td>26-01-2016</td>\n",
       "      <td>24124.99</td>\n",
       "      <td>0.5328</td>\n",
       "      <td>2014.09</td>\n",
       "      <td>0.19</td>\n",
       "      <td>249.3</td>\n",
       "      <td>6.9</td>\n",
       "    </tr>\n",
       "    <tr>\n",
       "      <th>2538</th>\n",
       "      <td>Mitsubishi</td>\n",
       "      <td>3000GT</td>\n",
       "      <td>Thia</td>\n",
       "      <td>Female</td>\n",
       "      <td>Female</td>\n",
       "      <td>25</td>\n",
       "      <td>well-modulated</td>\n",
       "      <td>China</td>\n",
       "      <td>Yanweigang</td>\n",
       "      <td>34.509325</td>\n",
       "      <td>119.751715</td>\n",
       "      <td>Goldenrod</td>\n",
       "      <td>True</td>\n",
       "      <td>13-02-2011</td>\n",
       "      <td>88195.95</td>\n",
       "      <td>0.0391</td>\n",
       "      <td>2017.24</td>\n",
       "      <td>0.14</td>\n",
       "      <td>222.0</td>\n",
       "      <td>10.3</td>\n",
       "    </tr>\n",
       "    <tr>\n",
       "      <th>5869</th>\n",
       "      <td>Infiniti</td>\n",
       "      <td>G37</td>\n",
       "      <td>Sonny</td>\n",
       "      <td>Male</td>\n",
       "      <td>Male</td>\n",
       "      <td>20</td>\n",
       "      <td>optimizing</td>\n",
       "      <td>France</td>\n",
       "      <td>Clermont-Ferrand</td>\n",
       "      <td>45.786764</td>\n",
       "      <td>3.160264</td>\n",
       "      <td>Indigo</td>\n",
       "      <td>False</td>\n",
       "      <td>24-11-2002</td>\n",
       "      <td>77791.65</td>\n",
       "      <td>0.5691</td>\n",
       "      <td>2017.83</td>\n",
       "      <td>0.04</td>\n",
       "      <td>131.6</td>\n",
       "      <td>12.3</td>\n",
       "    </tr>\n",
       "  </tbody>\n",
       "</table>\n",
       "</div>"
      ],
      "text/plain": [
       "            Make        Model Nickname Car Gender Buyer Gender  Buyer Age  \\\n",
       "2446   Chevrolet         1500  Corenda       Male       Female         25   \n",
       "4933         GMC  Savana 1500     Lark     Female       Female         34   \n",
       "566       Jaguar           XF   Payton     Female         Male         64   \n",
       "2538  Mitsubishi       3000GT     Thia     Female       Female         25   \n",
       "5869    Infiniti          G37    Sonny       Male         Male         20   \n",
       "\n",
       "            Buzzword      Country              City  Dealer Latitude  \\\n",
       "2446   collaboration  Philippines           Tubigan         8.490877   \n",
       "4933     interactive       Poland       Śródmieście        53.838651   \n",
       "566        Visionary      Nigeria       Ikot-Ekpene         5.174447   \n",
       "2538  well-modulated        China        Yanweigang        34.509325   \n",
       "5869      optimizing       France  Clermont-Ferrand        45.786764   \n",
       "\n",
       "      Dealer Longitude      Color  New Car Purchase Date  Sale Price  \\\n",
       "2446        124.345771      Khaki    False    20-03-2002    49909.44   \n",
       "4933         22.988241       Blue    False    15-04-2010    80084.82   \n",
       "566           7.714515        Red     True    26-01-2016    24124.99   \n",
       "2538        119.751715  Goldenrod     True    13-02-2011    88195.95   \n",
       "5869          3.160264     Indigo    False    24-11-2002    77791.65   \n",
       "\n",
       "      Discount  Resell Price  5-yr Depreciation  Top Speed  0-60 Time  \n",
       "2446    0.4480       2000.84               0.25      239.6       11.2  \n",
       "4933    0.2334       2005.44               0.01      158.7        9.0  \n",
       "566     0.5328       2014.09               0.19      249.3        6.9  \n",
       "2538    0.0391       2017.24               0.14      222.0       10.3  \n",
       "5869    0.5691       2017.83               0.04      131.6       12.3  "
      ]
     },
     "execution_count": 7,
     "metadata": {},
     "output_type": "execute_result"
    }
   ],
   "source": [
    "sorted_list.iloc[:5]"
   ]
  },
  {
   "cell_type": "code",
   "execution_count": null,
   "id": "8b347a3e",
   "metadata": {},
   "outputs": [],
   "source": []
  }
 ],
 "metadata": {
  "kernelspec": {
   "display_name": "Python 3",
   "language": "python",
   "name": "python3"
  },
  "language_info": {
   "codemirror_mode": {
    "name": "ipython",
    "version": 3
   },
   "file_extension": ".py",
   "mimetype": "text/x-python",
   "name": "python",
   "nbconvert_exporter": "python",
   "pygments_lexer": "ipython3",
   "version": "3.8.8"
  }
 },
 "nbformat": 4,
 "nbformat_minor": 5
}
